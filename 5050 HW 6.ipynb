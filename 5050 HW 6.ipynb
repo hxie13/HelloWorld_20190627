{
 "cells": [
  {
   "cell_type": "code",
   "execution_count": 202,
   "metadata": {
    "collapsed": true
   },
   "outputs": [],
   "source": [
    "#Imports \n",
    "\n",
    "%matplotlib inline\n",
    "\n",
    "import matplotlib.pyplot as plt\n",
    "import time as time\n",
    "import numpy as np\n",
    "from scipy import optimize as opt\n",
    "from numpy.lib import scimath\n",
    "from pylab import rcParams\n",
    "rcParams['figure.figsize'] = 7.5, 7.5\n",
    "\n",
    "import warnings; warnings.simplefilter('ignore')"
   ]
  },
  {
   "cell_type": "markdown",
   "metadata": {},
   "source": [
    "## Compute Orbital Elements"
   ]
  },
  {
   "cell_type": "code",
   "execution_count": 174,
   "metadata": {
    "collapsed": true
   },
   "outputs": [],
   "source": [
    "def orbitalElements(R, V, mu, printResults):\n",
    "\n",
    "    v = np.linalg.norm(V)\n",
    "\n",
    "    #Define unit vectors\n",
    "    x = [1, 0, 0]\n",
    "    y = [0, 1, 0]\n",
    "    z = [0, 0, 1]\n",
    "\n",
    "    #Calculate h\n",
    "    H = np.cross(R,V)\n",
    "    h = np.linalg.norm(H)\n",
    "\n",
    "    #Calculate p\n",
    "    p = h**2/mu\n",
    "\n",
    "    #Calculate e\n",
    "    eVec = np.cross(V, H)/mu - (R/np.linalg.norm(R))\n",
    "    e = np.linalg.norm(eVec)\n",
    "\n",
    "    #Calculate a\n",
    "    a = p/(1-e**2)\n",
    "\n",
    "    #Calculate i\n",
    "    i = np.arccos(H[2]/h)\n",
    "\n",
    "    #Calculate RAAN (big omega)\n",
    "    n = np.cross(z,H)\n",
    "\n",
    "    if (np.dot(n,y) >= 0):\n",
    "        RAAN = np.arccos(n[0]/np.linalg.norm(n))\n",
    "    elif (np.dot(n,y) < 0):\n",
    "        RAAN = -np.arccos(n[0]/np.linalg.norm(n))\n",
    "\n",
    "    #Calculate argument of periapsis (little omega)\n",
    "    if (np.dot(z, eVec) >= 0):\n",
    "        aop = np.arccos(np.dot(n,eVec)/(np.linalg.norm(n)*e))\n",
    "    elif  (np.dot(z,eVec) < 0):\n",
    "        aop = 2*np.pi - np.arccos(np.dot(n,eVec)/(np.linalg.norm(n)*e))\n",
    "\n",
    "    #Calculate true anomaly\n",
    "    if (np.dot(R, V) >= 0):\n",
    "        theta = np.arccos(np.dot(R,eVec)/(np.linalg.norm(R)*e))\n",
    "    elif (np.dot(R, V) < 0):\n",
    "        theta = 2*np.pi - np.arccos(np.dot(R,eVec)/(np.linalg.norm(R)*e))\n",
    "\n",
    "    if printResults:\n",
    "        print('Semi major axis a = ', a, ' km')\n",
    "        print('Eccentricity e = ', e)\n",
    "        print('Inclination angle i = ', np.degrees(i), ' degrees')\n",
    "        print('Right ascension of ascending node = ', np.degrees(RAAN), ' degrees')\n",
    "        print('Argument of periapsis = ', np.degrees(aop), ' degrees')\n",
    "        print('True anomaly = ', np.degrees(theta), ' degrees')\n",
    "        \n",
    "    return([a, e, i, RAAN, aop, theta, h, p])"
   ]
  },
  {
   "cell_type": "markdown",
   "metadata": {},
   "source": [
    "## Convert Between theta and E"
   ]
  },
  {
   "cell_type": "code",
   "execution_count": 175,
   "metadata": {
    "collapsed": true
   },
   "outputs": [],
   "source": [
    "def theta2E(theta, e):\n",
    "    E = 2*np.arctan(np.sqrt((1-e)/(1+e))*np.tan(theta/2))\n",
    "    return(E)"
   ]
  },
  {
   "cell_type": "code",
   "execution_count": 176,
   "metadata": {
    "collapsed": true
   },
   "outputs": [],
   "source": [
    "def E2theta(E, e):\n",
    "    theta = 2*np.arctan(np.sqrt((1+e)/(1-e))*np.tan(E/2))\n",
    "    return(theta)"
   ]
  },
  {
   "cell_type": "markdown",
   "metadata": {},
   "source": [
    "## Kepler's Equation Minus n*dt"
   ]
  },
  {
   "cell_type": "code",
   "execution_count": 177,
   "metadata": {
    "collapsed": true
   },
   "outputs": [],
   "source": [
    "def Kepler(E2, info):\n",
    "    #print(\"In Kepler: info = \", info)\n",
    "    n = info[0]\n",
    "    e = info[1]\n",
    "    dt = info[2]*3600 #convert hours to seconds\n",
    "    E1 = info[3]\n",
    "    return (E2 - e*np.sin(E2) - (E1 - e*np.sin(E1)) - n*dt)"
   ]
  },
  {
   "cell_type": "markdown",
   "metadata": {},
   "source": [
    "## Use f and g to Find Rf and Vf"
   ]
  },
  {
   "cell_type": "code",
   "execution_count": 178,
   "metadata": {
    "collapsed": true
   },
   "outputs": [],
   "source": [
    "def fgTheta(Ri, Vi, rf, mu, p, deltaTheta):\n",
    "    \n",
    "    ri = np.linalg.norm(Ri)\n",
    "    vi = np.linalg.norm(Vi)\n",
    "    \n",
    "    f = 1 - ((rf/p)*(1 - np.cos(deltaTheta)))\n",
    "    g = (ri*rf/np.sqrt(mu*p))*(np.sin(deltaTheta))\n",
    "\n",
    "    fdot = np.sqrt(mu/p)*np.tan(deltaTheta/2)*(((1 - np.cos(deltaTheta))/p) - (1/rf) - (1/ri))\n",
    "    gdot = 1-((ri/p)*(1-np.cos(deltaTheta)))\n",
    "        \n",
    "    R2 = np.multiply(f, Ri) + np.multiply(g, Vi)\n",
    "    V2 = np.multiply(fdot, Ri) + np.multiply(gdot, Vi)\n",
    "    \n",
    "    return([R2, V2])"
   ]
  },
  {
   "cell_type": "code",
   "execution_count": 179,
   "metadata": {
    "collapsed": true
   },
   "outputs": [],
   "source": [
    "def fgE(Ri, Vi, rf, dt, a, mu, deltaE):\n",
    "    \n",
    "    deltat = dt*3600 #hours to seconds\n",
    "    \n",
    "    ri = np.linalg.norm(Ri)\n",
    "    vi = np.linalg.norm(Vi)\n",
    "    \n",
    "    f = 1 - ((a/ri)*(1 - np.cos(deltaE)))\n",
    "    g = deltat - (np.sqrt((a**3)/mu)*(deltaE - np.sin(deltaE)))\n",
    "    \n",
    "    fdot = (-np.sin(deltaE)*np.sqrt(mu*a))/(ri*rf)\n",
    "    gdot = 1 - (1/rf)*(1 - np.cos(deltaE))\n",
    "    \n",
    "    R2 = np.multiply(f, Ri) + np.multiply(g, Vi)\n",
    "    V2 = np.multiply(fdot, Ri) + np.multiply(gdot, Vi)\n",
    "    \n",
    "    return([R2, V2])"
   ]
  },
  {
   "cell_type": "markdown",
   "metadata": {},
   "source": [
    "## Secant Method Solver"
   ]
  },
  {
   "cell_type": "code",
   "execution_count": 180,
   "metadata": {
    "collapsed": true
   },
   "outputs": [],
   "source": [
    "def solve(func, info, x0, x1, err, Nmax, isVerbose):\n",
    "    \n",
    "    n = 0\n",
    "    \n",
    "    while (n < Nmax):\n",
    "        \n",
    "        n = n+1\n",
    "        if isVerbose:\n",
    "            print(\"In solve: Iteration: \", n)\n",
    "            print(\"In solve: x0 = \", x0)\n",
    "            print(\"In solve: x1 = \", x1)\n",
    "        \n",
    "        x2 = x1 - func(x1, info)*((x1-x0)/(func(x1, info) - func(x0, info)))\n",
    "        if isVerbose:\n",
    "            print(\"In solve: x2 = \", x2)\n",
    "        \n",
    "        if (np.abs(x2 - x1) < err):\n",
    "            print(\"\\nIn solve: Successful Solve.\\n\")\n",
    "            return x2\n",
    "        \n",
    "        else:\n",
    "            x0 = x1\n",
    "            x1 = x2\n",
    "            \n",
    "    return False"
   ]
  },
  {
   "cell_type": "markdown",
   "metadata": {},
   "source": [
    "## Lambert's Equation Function"
   ]
  },
  {
   "cell_type": "code",
   "execution_count": 181,
   "metadata": {
    "collapsed": true
   },
   "outputs": [],
   "source": [
    "def TOFLambert(a, info):\n",
    "    \n",
    "    mu = info[0]\n",
    "    s = info[1]\n",
    "    c = info[2]\n",
    "    transferLessThan180 = info[4]\n",
    "    transferGreaterThan180 = not transferLessThan180\n",
    "    shortWay = info[5]\n",
    "    longWay = not shortWay\n",
    "    isVerbose = info[6]\n",
    "    \n",
    "    n = np.sqrt(mu/(a**3))\n",
    "    \n",
    "    #Set alpha and beta\n",
    "    \n",
    "    if transferLessThan180:\n",
    "        beta = 2*(np.arcsin(np.sqrt((s - c)/(2*a))))\n",
    "        if isVerbose:\n",
    "            print(\"In TOFLambert, Transfer less than 180\")\n",
    "    elif transferGreaterThan180:\n",
    "        beta = -2*(np.arcsin(np.sqrt((s - c)/(2*a))))\n",
    "        if isVerbose:\n",
    "            print(\"In TOFLambert, Transfer greater than 180\")\n",
    "        \n",
    "    if shortWay:\n",
    "        alpha = 2*np.arcsin(np.sqrt(s/(2*a)))\n",
    "        if isVerbose:\n",
    "            print(\"In TOFLambert, Short way\")\n",
    "    elif longWay:\n",
    "        alpha = 2*np.pi-2*np.arcsin(np.sqrt(s/(2*a)))\n",
    "        if isVerbose:\n",
    "            print(\"In TOFLambert, Long way\")\n",
    "\n",
    "    TOF = (1/n)*((alpha - beta) - (np.sin(alpha) - np.sin(beta)))/3600\n",
    "    \n",
    "    if isVerbose:\n",
    "        print(\"In TOFLambert, a = \", a, ' km')\n",
    "        print(\"In TOFLambert, alpha = \", alpha)\n",
    "        print(\"In TOFLambert, beta = \", beta)\n",
    "        print(\"In TOFLambert, n = \", n)\n",
    "        print(\"In TOFLambert, s = \", s)\n",
    "        print(\"In TOFLambert, c = \", c)\n",
    "        print(\"In TOFLambert, TOFi = \", TOF, ' hours')\n",
    "    \n",
    "    return TOF"
   ]
  },
  {
   "cell_type": "markdown",
   "metadata": {},
   "source": [
    "## Lambert's Equation Minus Desired TOF (for root finding)"
   ]
  },
  {
   "cell_type": "code",
   "execution_count": 182,
   "metadata": {
    "collapsed": true
   },
   "outputs": [],
   "source": [
    "def TOFLambertSolve(a, info):\n",
    "    TOFDesired = info[3]\n",
    "    return (TOFLambert(a, info) - TOFDesired)"
   ]
  },
  {
   "cell_type": "markdown",
   "metadata": {},
   "source": [
    "## Compute Lambert Transfer Arc"
   ]
  },
  {
   "cell_type": "code",
   "execution_count": 183,
   "metadata": {
    "collapsed": true
   },
   "outputs": [],
   "source": [
    "#state1 (list of 2 3-d vectors): initial position and velocity vectors\n",
    "#state2 (list of 2 3-d vectors): final position and velocity vectors\n",
    "#transferLessThan180 (boolean): is this transfer angle less than 180 degrees?\n",
    "#TOF (int or float): desired time of flight (HOURS)\n",
    "#info (list): relevant info, such as gravitational parameter\n",
    "#isVerbose (boolean): output verbose output or not\n",
    "#printResults (boolean): print results or not\n",
    "\n",
    "def Lambert(state1, state2, transferLessThan180, TOF, info, isVerbose, printResults):\n",
    "    \n",
    "    R1 = state1[0]\n",
    "    V1 = state1[1]\n",
    "    R2 = state2[0]\n",
    "    V2 = state2[1]\n",
    "    \n",
    "    r1 = np.linalg.norm(R1)\n",
    "    v1 = np.linalg.norm(V1)\n",
    "    r2 = np.linalg.norm(R2)\n",
    "    v2 = np.linalg.norm(V2)\n",
    "    \n",
    "    mu = info[0]\n",
    "    \n",
    "    if transferLessThan180:\n",
    "        deltaTheta = np.arccos(np.dot(R1,R2)/(r1*r2))\n",
    "    else:\n",
    "        deltaTheta = 2*np.pi - np.arccos(np.dot(R1,R2)/(r1*r2))\n",
    "    \n",
    "    if isVerbose:\n",
    "        print(\"Delta theta = \", np.degrees(deltaTheta), \" degrees.\")\n",
    "        \n",
    "    \n",
    "    c = np.sqrt(r1**2 + r2**2 - 2*r1*r2*np.cos(deltaTheta))\n",
    "    s = 0.5*(r1+r2+c)\n",
    "    \n",
    "    if isVerbose:\n",
    "        print('c = ', c)\n",
    "        print('s = ', s)\n",
    "    \n",
    "    if transferLessThan180:\n",
    "        TOFParabolic = 1/3*np.sqrt(2/mu)*(s**(3/2)-(s-c)**(3/2))/3600 #hours\n",
    "    else:\n",
    "        TOFParabolic = 1/3*np.sqrt(2/mu)*(s**(3/2)+(s-c)**(3/2))/3600 #hours\n",
    "    if isVerbose:\n",
    "        print(\"Parabolic TOF = \", TOFParabolic, \" hours\")\n",
    "        print(\"Your TOF = \", TOF, \" hours\")\n",
    "    \n",
    "    isEllipse = False\n",
    "    isHyperbola = False\n",
    "    isParabola = False\n",
    "    \n",
    "    if TOF > TOFParabolic:\n",
    "        isEllipse = True\n",
    "        if isVerbose:\n",
    "            print(\"Elliptical Transfer.\")\n",
    "    elif TOF < TOFParabolic:\n",
    "        isHyperbola = True\n",
    "        if isVerbose:\n",
    "            print(\"Hyperbolic Transfer.\")\n",
    "    else:\n",
    "        isParabola = True\n",
    "        if isVerbose:\n",
    "            print(\"Parabolic Transfer.\")\n",
    "    \n",
    "    #Minimum energy arc parameters\n",
    "    am = s/2\n",
    "    nm = np.sqrt(mu/(am**3))\n",
    "    alpham = np.pi\n",
    "    betam0 = 2*np.arcsin(np.sqrt((s-c)/s))\n",
    "    \n",
    "    if transferLessThan180:\n",
    "        betam = betam0\n",
    "    else:\n",
    "        betam = -betam0\n",
    "    \n",
    "    TOFm = (1/nm)*(alpham - betam - (np.sin(alpham) - np.sin(betam)))/3600 #hours\n",
    "    if isVerbose:\n",
    "        print(\"Minimum energy ellipse am = \", am, ' km.')\n",
    "        print(\"Minimum energy ellipse nm = \", nm)\n",
    "        print(\"Minimum energy ellipse betam0 = \", betam0)\n",
    "        print(\"Minimum energy ellipse TOF = \", TOFm, ' hours.')\n",
    "    \n",
    "    #short or long way\n",
    "    \n",
    "    shortWay = False\n",
    "    longWay = False\n",
    "    \n",
    "    if TOF < TOFm:\n",
    "        shortWay = True\n",
    "    elif TOF > TOFm:\n",
    "        longWay = True\n",
    "    elif TOF == TOFm:\n",
    "        print(\"Time of flight indicates minimum energy ellipse transfer.\")\n",
    "    \n",
    "    if isVerbose:\n",
    "        print(\"Short way: \", shortWay)\n",
    "        print(\"Long way: \", longWay)\n",
    "    \n",
    "    solverVerbose = False\n",
    "    \n",
    "    infoLambert = [mu, s, c, TOF, transferLessThan180, shortWay, solverVerbose]\n",
    "    \n",
    "    #Solver params\n",
    "    deltaa1 = am/100\n",
    "    deltaa2 = am/75\n",
    "    tolerance = 1e-7\n",
    "    numberIterations = 1000\n",
    "    \n",
    "    a = solve(TOFLambertSolve, infoLambert, am+deltaa1, am+deltaa1+(np.random.rand()*deltaa1), tolerance, numberIterations, solverVerbose)\n",
    "    #a = opt.fsolve(TOFLambertSolve, am+deltaa1, args=infoLambert)\n",
    "    \n",
    "    if isVerbose:\n",
    "        print(\"In Lambert: Final a = \", a, \" km\")\n",
    "        print(\"In Lambert: Final TOFi is: \", TOFLambert(a, infoLambert), ' hours')\n",
    "    \n",
    "    #Choose alpha and beta\n",
    "    if transferLessThan180:\n",
    "        beta = 2*(np.arcsin(np.sqrt((s - c)/(2*a))))\n",
    "    else:\n",
    "        beta = -2*(np.arcsin(np.sqrt((s - c)/(2*a))))\n",
    "        \n",
    "    if shortWay:\n",
    "        alpha = 2*np.arcsin(np.sqrt(s/(2*a)))\n",
    "    elif longWay:\n",
    "        alpha = 2*np.pi-2*np.arcsin(np.sqrt(s/(2*a)))\n",
    "      \n",
    "    #Choose which ellipse\n",
    "    p1 = ((4*a*(s-r1)*(s-r2))/(c**2))*(np.sin((alpha + beta)/2))**2\n",
    "    p2 = ((4*a*(s-r1)*(s-r2))/(c**2))*(np.sin((alpha - beta)/2))**2\n",
    "    pVec = [p1, p2]\n",
    "    eVec = np.sqrt(1-(pVec/a))\n",
    "    \n",
    "    if isVerbose:\n",
    "        print(\"Possible p values: \", pVec, \" km\")\n",
    "        print(\"Possible e values: \", eVec)\n",
    "        \n",
    "    if transferLessThan180:\n",
    "        if shortWay:\n",
    "            eMag = min(eVec)\n",
    "            p = max(pVec)\n",
    "        elif longWay:\n",
    "            eMag = max(eVec)\n",
    "            p = min(pVec)\n",
    "    else:\n",
    "        if shortWay:\n",
    "            eMag = max(eVec)\n",
    "            p = min(pVec)\n",
    "        elif longWay:\n",
    "            eMag = min(eVec)\n",
    "            p = max(pVec)\n",
    "    \n",
    "    if isVerbose:\n",
    "        print(\"Selected p value = \", p, \" km\")\n",
    "        print(\"Selected e value = \", eMag)\n",
    "        \n",
    "    h = np.sqrt(mu*p)\n",
    "    E = mu**2*(eMag**2 - 1)/(2*h**2)\n",
    "    \n",
    "    #Find true anomalies\n",
    "    theta1Vec = [np.arccos(1/eMag*(p/r1 - 1)), 2*np.pi-np.arccos(1/eMag*(p/r1 - 1))]\n",
    "    theta2Vec = [np.arccos(1/eMag*(p/r2 - 1)), 2*np.pi-np.arccos(1/eMag*(p/r2 - 1))]\n",
    "    \n",
    "    combos = [theta2Vec[0] - theta1Vec[0], \n",
    "             theta2Vec[1] - theta1Vec[0],\n",
    "             theta2Vec[0] - theta1Vec[1],\n",
    "             theta2Vec[1] - theta1Vec[1]]\n",
    "    \n",
    "    for i in range(0, len(combos)):\n",
    "        if combos[i] < 0:\n",
    "            combos[i] = combos[i] + 2*np.pi\n",
    "    \n",
    "    if isVerbose:\n",
    "        print(\"Possible theta1 values: \", np.degrees(theta1Vec))\n",
    "        print(\"Possible theta2 values: \", np.degrees(theta2Vec))\n",
    "        print(\"Combos:\")\n",
    "        print(np.degrees(theta2Vec[0] - theta1Vec[0]))\n",
    "        print(np.degrees(theta2Vec[1] - theta1Vec[0]))\n",
    "        print(np.degrees(theta2Vec[0] - theta1Vec[1]))\n",
    "        print(np.degrees(theta2Vec[1] - theta1Vec[1]))\n",
    "    \n",
    "    if(np.abs(combos[0] - deltaTheta) < 0.001):\n",
    "        theta1 = theta1Vec[0]\n",
    "        theta2 = theta2Vec[0]\n",
    "        combosIndex = 0\n",
    "    elif(np.abs(combos[1] - deltaTheta) < 0.001):\n",
    "        theta1 = theta1Vec[0]\n",
    "        theta2 = theta2Vec[1]\n",
    "        combosIndex = 1\n",
    "    elif(np.abs(combos[2] - deltaTheta) < 0.001):\n",
    "        theta1 = theta1Vec[1]\n",
    "        theta2 = theta2Vec[0]\n",
    "        combosIndex = 2\n",
    "    elif(np.abs(combos[3] - deltaTheta) < 0.001):\n",
    "        theta1 = theta1Vec[1]\n",
    "        theta2 = theta2Vec[1]\n",
    "        combosIndex = 3\n",
    "    \n",
    "    if isVerbose:\n",
    "        print(\"Theta1 = \", np.degrees(theta1))\n",
    "        print(\"Theta2 = \", np.degrees(theta2))\n",
    "        print(\"Difference = \", np.degrees(combos[combosIndex]))\n",
    "        print(\"Delta theta = \", np.degrees(deltaTheta))\n",
    "        \n",
    "    #sigma = np.dot(R1,V1)/np.sqrt(mu)\n",
    "    \n",
    "    f = 1-((r2/p)*(1-np.cos(deltaTheta)))\n",
    "    g = r1*r2/np.sqrt(mu*p)*(np.sin(deltaTheta))\n",
    "\n",
    "    fdot = np.sqrt(mu/p)*np.tan(deltaTheta/2)*(((1-np.cos(deltaTheta))/p)-(1/r2)-(1/r1))\n",
    "    #fdot = np.sqrt(mu)/(r1*p)*(sigma*(1-np.cos(deltaTheta))-np.sqrt(p)*np.sin(deltaTheta))\n",
    "    gdot = 1-((r1/p)*(1-np.cos(deltaTheta)))\n",
    "\n",
    "    V1TransInertial = (R2 - np.multiply(f, R1))/g\n",
    "    V2TransInertial = np.multiply(fdot, R1) + np.multiply(gdot, V1TransInertial)\n",
    "    \n",
    "    #Delta vs\n",
    "    deltav1 = V1TransInertial - V1\n",
    "    deltav2 = V2 - V2TransInertial\n",
    "    deltav1Mag = np.linalg.norm(deltav1)\n",
    "    deltav2Mag = np.linalg.norm(deltav2)\n",
    "    totalDeltav = deltav1Mag + deltav2Mag\n",
    "    \n",
    "    if printResults:\n",
    "        print(\"In Lambert:\")\n",
    "        print(\"\\nTransfer solved.\\n\")\n",
    "        print(\"Initial State (inertial frame):\\n\")\n",
    "        print(\"\\tInitial Position = \", R1, \"km\")\n",
    "        print(\"\\tInitial Velocity = \", V1, \"km\")\n",
    "        print(\"\\tFinal Position = \", R2, \"km\")\n",
    "        print(\"\\tFinal Velocity = \", V2, \"km\\n\")\n",
    "        print(\"Transfer:\\n\")\n",
    "        print(\"\\tSemi-Major Axis a = \", a, \" km\")\n",
    "        print(\"\\tEccentricity e = \", eMag)\n",
    "        print(\"\\tOrbital Energy E = \", E, \"m^2/s^2\")\n",
    "        print(\"\\tTrue Anomaly at Transfer Start (theta1) = \", np.degrees(theta1), \"degrees\")\n",
    "        print(\"\\tTrue Anomaly at Transfer Start (theta1) = \", np.degrees(theta2), \"degrees\")\n",
    "        print(\"\\tInitial Transfer Arc Velocity (inertial frame) = \", V1TransInertial, \"km/s\")\n",
    "        print(\"\\tFinal Transfer Arc Velocity (inertial frame) = \", V2TransInertial, \"km/s\")\n",
    "        print(\"\\tDelta v_1 = \", deltav1Mag, \"km/s\")\n",
    "        print(\"\\tDelta v_2 = \", deltav2Mag, \"km/s\")\n",
    "        print(\"\\tTotal delta v = \", totalDeltav, \"km/s\")\n",
    "        \n",
    "    return([a, eMag, E, am, h, p, theta1, theta2, V1TransInertial, V2TransInertial, deltav1Mag, deltav2Mag, totalDeltav])\n"
   ]
  },
  {
   "cell_type": "markdown",
   "metadata": {},
   "source": [
    "## Problem 2"
   ]
  },
  {
   "cell_type": "code",
   "execution_count": 184,
   "metadata": {
    "collapsed": true
   },
   "outputs": [],
   "source": [
    "#Mars centered inertial frame\n",
    "\n",
    "Jdate1 = 32503 #UTC\n",
    "position11 = [-2609, 6305, 8678] #km\n",
    "velocity11 = [-1.78, -0.272, 0.560] #km/s\n",
    "\n",
    "Jdate2 = 32503.25 #UTC\n",
    "position21 = [-14943, -8977, -5773] #km\n",
    "velocity21 = [0.730, -0.350, -1.025] #km/s"
   ]
  },
  {
   "cell_type": "markdown",
   "metadata": {},
   "source": [
    "### Part (a)"
   ]
  },
  {
   "cell_type": "code",
   "execution_count": 185,
   "metadata": {},
   "outputs": [
    {
     "name": "stdout",
     "output_type": "stream",
     "text": [
      "Delta theta =  109.512919959  degrees.\n",
      "c =  24382.3395309\n",
      "s =  26892.4551252\n",
      "Parabolic TOF =  2.70387002231  hours\n",
      "Your TOF =  6.0  hours\n",
      "Elliptical Transfer.\n",
      "Minimum energy ellipse am =  13446.2275626  km.\n",
      "Minimum energy ellipse nm =  0.000133071757431\n",
      "Minimum energy ellipse betam0 =  0.62095715013\n",
      "Minimum energy ellipse TOF =  6.47614127203  hours.\n",
      "Short way:  True\n",
      "Long way:  False\n",
      "\n",
      "In solve: Successful Solve.\n",
      "\n",
      "In Lambert: Final a =  13496.6878278  km\n",
      "In Lambert: Final TOFi is:  6.0  hours\n",
      "Possible p values:  [11535.033822858264, 10664.484734446038]  km\n",
      "Possible e values:  [ 0.38123925  0.45808766]\n",
      "Selected p value =  11535.0338229  km\n",
      "Selected e value =  0.381239247059\n",
      "Possible theta1 values:  [  83.23634807  276.76365193]\n",
      "Possible theta2 values:  [ 167.25073197  192.74926803]\n",
      "Combos:\n",
      "84.0143839041\n",
      "109.512919959\n",
      "-109.512919959\n",
      "-84.0143839041\n",
      "Theta1 =  83.2363480684\n",
      "Theta2 =  192.749268027\n",
      "Difference =  109.512919959\n",
      "Delta theta =  109.512919959\n",
      "In Lambert:\n",
      "\n",
      "Transfer solved.\n",
      "\n",
      "Initial State (inertial frame):\n",
      "\n",
      "\tInitial Position =  [-2609, 6305, 8678] km\n",
      "\tInitial Velocity =  [-1.78, -0.272, 0.56] km\n",
      "\tFinal Position =  [-14943, -8977, -5773] km\n",
      "\tFinal Velocity =  [0.73, -0.35, -1.025] km\n",
      "\n",
      "Transfer:\n",
      "\n",
      "\tSemi-Major Axis a =  13496.6878278  km\n",
      "\tEccentricity e =  0.381239247059\n",
      "\tOrbital Energy E =  -1.59483573115 m^2/s^2\n",
      "\tTrue Anomaly at Transfer Start (theta1) =  83.2363480684 degrees\n",
      "\tTrue Anomaly at Transfer Start (theta1) =  192.749268027 degrees\n",
      "\tInitial Transfer Arc Velocity (inertial frame) =  [-2.08463819 -0.22066783  0.46398186] km/s\n",
      "\tFinal Transfer Arc Velocity (inertial frame) =  [ 0.78647957 -0.44563602 -0.82577896] km/s\n",
      "\tDelta v_1 =  0.323510286942 km/s\n",
      "\tDelta v_2 =  0.228090361417 km/s\n",
      "\tTotal delta v =  0.551600648359 km/s\n"
     ]
    }
   ],
   "source": [
    "TOF1 = (Jdate2-Jdate1)*24 #days to hours\n",
    "transferBelow180 = True\n",
    "\n",
    "s11 = [position11, velocity11]\n",
    "s21 = [position21, velocity21]\n",
    "\n",
    "muMars = 4.305e4 #km^3/s^2\n",
    "\n",
    "info1 = [muMars]\n",
    "\n",
    "results_1a = Lambert(s11, s21, transferBelow180, TOF1, info1, True, True)"
   ]
  },
  {
   "cell_type": "markdown",
   "metadata": {},
   "source": [
    "### Part (b)"
   ]
  },
  {
   "cell_type": "code",
   "execution_count": 186,
   "metadata": {},
   "outputs": [
    {
     "name": "stdout",
     "output_type": "stream",
     "text": [
      "Lower bound for transfer arc semi-major axis =  13446.2275626  km\n"
     ]
    }
   ],
   "source": [
    "print(\"Lower bound for transfer arc semi-major axis = \", results_1a[3], \" km\")"
   ]
  },
  {
   "cell_type": "markdown",
   "metadata": {},
   "source": [
    "### Part (c)"
   ]
  },
  {
   "cell_type": "code",
   "execution_count": 187,
   "metadata": {},
   "outputs": [
    {
     "name": "stdout",
     "output_type": "stream",
     "text": [
      "True anomaly at transfer start =  83.2363480684 degrees\n",
      "True anomaly at transfer end =  192.749268027 degrees\n",
      "Initial transfer velocity vector =  [-2.08463819 -0.22066783  0.46398186] km/s\n",
      "Final transfer velocity vector =  [ 0.78647957 -0.44563602 -0.82577896] km/s\n",
      "Delta v_1 magnitude =  0.323510286942 km/s\n",
      "Delta v_2 magnitude =  0.228090361417 km/s\n",
      "Total delta v =  0.551600648359 km/s\n"
     ]
    }
   ],
   "source": [
    "print(\"True anomaly at transfer start = \", np.degrees(results_1a[6]), \"degrees\")\n",
    "print(\"True anomaly at transfer end = \", np.degrees(results_1a[7]), \"degrees\")\n",
    "print(\"Initial transfer velocity vector = \", results_1a[8], \"km/s\")\n",
    "print(\"Final transfer velocity vector = \", results_1a[9], \"km/s\")\n",
    "print(\"Delta v_1 magnitude = \", results_1a[10], \"km/s\")\n",
    "print(\"Delta v_2 magnitude = \", results_1a[11], \"km/s\")\n",
    "print(\"Total delta v = \", results_1a[12], \"km/s\")"
   ]
  },
  {
   "cell_type": "markdown",
   "metadata": {},
   "source": [
    "### Part (d)"
   ]
  },
  {
   "cell_type": "code",
   "execution_count": 207,
   "metadata": {},
   "outputs": [
    {
     "name": "stdout",
     "output_type": "stream",
     "text": [
      "Semi major axis a =  13496.6878278  km\n",
      "Eccentricity e =  0.381239247059\n",
      "Inclination angle i =  52.0004066267  degrees\n",
      "Right ascension of ascending node =  16.0003446687  degrees\n",
      "Argument of periapsis =  10.763289002  degrees\n",
      "True anomaly =  83.2363480684  degrees\n",
      "8351.22072257\n"
     ]
    }
   ],
   "source": [
    "elements_2d = orbitalElements(position11, results_1a[8], muMars, True)\n",
    "rp2d = elements_2d[0]*(1 - elements_2d[1])\n",
    "print(rp2d)"
   ]
  },
  {
   "cell_type": "markdown",
   "metadata": {},
   "source": [
    "### Part (e)"
   ]
  },
  {
   "cell_type": "code",
   "execution_count": 189,
   "metadata": {},
   "outputs": [
    {
     "name": "stdout",
     "output_type": "stream",
     "text": [
      "Semi major axis a =  10145.2208466  km\n",
      "Eccentricity e =  0.382971152944\n",
      "Inclination angle i =  51.8227072662  degrees\n",
      "Right ascension of ascending node =  22.8422073413  degrees\n",
      "Argument of periapsis =  325.481500775  degrees\n",
      "True anomaly =  124.294433915  degrees\n",
      "\n",
      "Semi major axis a =  14433.2367819  km\n",
      "Eccentricity e =  0.282210140148\n",
      "Inclination angle i =  60.4790968714  degrees\n",
      "Right ascension of ascending node =  20.186862374  degrees\n",
      "Argument of periapsis =  9.74687198651  degrees\n",
      "True anomaly =  191.432059027  degrees\n"
     ]
    }
   ],
   "source": [
    "elements_2e_i = orbitalElements(position11, velocity11, muMars, True)\n",
    "print()\n",
    "elements_2e_f = orbitalElements(position21, velocity21, muMars, True)"
   ]
  },
  {
   "cell_type": "markdown",
   "metadata": {},
   "source": [
    "### Part (f)"
   ]
  },
  {
   "cell_type": "code",
   "execution_count": 190,
   "metadata": {},
   "outputs": [
    {
     "name": "stdout",
     "output_type": "stream",
     "text": [
      "Delta theta =  250.487080041  degrees.\n",
      "c =  24382.3395309\n",
      "s =  26892.4551252\n",
      "Parabolic TOF =  2.86260595305  hours\n",
      "Your TOF =  6.0  hours\n",
      "Elliptical Transfer.\n",
      "Minimum energy ellipse am =  13446.2275626  km.\n",
      "Minimum energy ellipse nm =  0.000133071757431\n",
      "Minimum energy ellipse betam0 =  0.62095715013\n",
      "Minimum energy ellipse TOF =  6.6395587509  hours.\n",
      "Short way:  True\n",
      "Long way:  False\n",
      "\n",
      "In solve: Successful Solve.\n",
      "\n",
      "In Lambert: Final a =  13542.2887016  km\n",
      "In Lambert: Final TOFi is:  6.0  hours\n",
      "Possible p values:  [10507.760480927829, 11707.079956615902]  km\n",
      "Possible e values:  [ 0.47336872  0.36812618]\n",
      "Selected p value =  10507.7604809  km\n",
      "Selected e value =  0.473368719752\n",
      "Possible theta1 values:  [  95.83875087  264.16124913]\n",
      "Possible theta2 values:  [ 154.64832917  205.35167083]\n",
      "Combos:\n",
      "58.809578309\n",
      "109.512919959\n",
      "-109.512919959\n",
      "-58.809578309\n",
      "Theta1 =  264.161249134\n",
      "Theta2 =  154.648329175\n",
      "Difference =  250.487080041\n",
      "Delta theta =  250.487080041\n",
      "In Lambert:\n",
      "\n",
      "Transfer solved.\n",
      "\n",
      "Initial State (inertial frame):\n",
      "\n",
      "\tInitial Position =  [-2609, 6305, 8678] km\n",
      "\tInitial Velocity =  [-1.78, -0.272, 0.56] km\n",
      "\tFinal Position =  [-14943, -8977, -5773] km\n",
      "\tFinal Velocity =  [0.73, -0.35, -1.025] km\n",
      "\n",
      "Transfer:\n",
      "\n",
      "\tSemi-Major Axis a =  13542.2887016  km\n",
      "\tEccentricity e =  0.473368719752\n",
      "\tOrbital Energy E =  -1.58946544962 m^2/s^2\n",
      "\tTrue Anomaly at Transfer Start (theta1) =  264.161249134 degrees\n",
      "\tTrue Anomaly at Transfer Start (theta1) =  154.648329175 degrees\n",
      "\tInitial Transfer Arc Velocity (inertial frame) =  [ 2.04994307  0.06490257 -0.64339063] km/s\n",
      "\tFinal Transfer Arc Velocity (inertial frame) =  [-0.95824761  0.30061119  0.70794595] km/s\n",
      "\tDelta v_1 =  4.02866184108 km/s\n",
      "\tDelta v_2 =  2.5053096771 km/s\n",
      "\tTotal delta v =  6.53397151817 km/s\n"
     ]
    }
   ],
   "source": [
    "results_1f = Lambert(s11, s21, False, TOF1, info1, True, True)"
   ]
  },
  {
   "cell_type": "markdown",
   "metadata": {},
   "source": [
    "### Part (i)"
   ]
  },
  {
   "cell_type": "code",
   "execution_count": 215,
   "metadata": {},
   "outputs": [
    {
     "name": "stdout",
     "output_type": "stream",
     "text": [
      "First transfer initial position mag =  11039.3654709 km\n",
      "First transfer final position mag =  18363.2052485 km\n",
      "Second transfer initial position mag =  11039.3654709 km\n",
      "Second transfer final position mag =  18363.2052485 km\n"
     ]
    }
   ],
   "source": [
    "r1trans1 = np.linalg.norm(position11)\n",
    "r2trans1 = np.linalg.norm(position21)\n",
    "r1trans2 = np.linalg.norm(position11)\n",
    "r2trans2 = np.linalg.norm(position21)\n",
    "\n",
    "print(\"First transfer initial position mag = \", r1trans1, \"km\")\n",
    "print(\"First transfer final position mag = \", r2trans1, \"km\")\n",
    "print(\"Second transfer initial position mag = \", r1trans2, \"km\")\n",
    "print(\"Second transfer final position mag = \", r2trans2, \"km\")"
   ]
  },
  {
   "cell_type": "markdown",
   "metadata": {},
   "source": [
    "## Problem 3"
   ]
  },
  {
   "cell_type": "code",
   "execution_count": 191,
   "metadata": {
    "collapsed": true
   },
   "outputs": [],
   "source": [
    "position12 = [8990, 2219, 59.40] #km\n",
    "velocity12 = [-0.500, 2.105, -0.039] #km/s\n",
    "\n",
    "position22 = [19888, -12412, 748] #km\n",
    "velocity22 = [0.714, 1.147, 0.030] #km/s\n",
    "\n",
    "s12 = [position12, velocity12]\n",
    "s22 = [position22, velocity22]\n",
    "\n",
    "info2 = [muMars]"
   ]
  },
  {
   "cell_type": "markdown",
   "metadata": {},
   "source": [
    "### Part (a)"
   ]
  },
  {
   "cell_type": "code",
   "execution_count": 199,
   "metadata": {},
   "outputs": [
    {
     "name": "stdout",
     "output_type": "stream",
     "text": [
      "Delta theta =  45.8463503784  degrees.\n",
      "c =  18256.6901425\n",
      "s =  25485.9808629\n",
      "Parabolic TOF =  2.17984800263  hours\n",
      "Your TOF =  15  hours\n",
      "Elliptical Transfer.\n",
      "Minimum energy ellipse am =  12742.9904315  km.\n",
      "Minimum energy ellipse nm =  0.000144237950365\n",
      "Minimum energy ellipse betam0 =  1.12332754682\n",
      "Minimum energy ellipse TOF =  5.62305842034  hours.\n",
      "Short way:  False\n",
      "Long way:  True\n",
      "\n",
      "In solve: Successful Solve.\n",
      "\n",
      "In Lambert: Final a =  17231.3218913  km\n",
      "In Lambert: Final TOFi is:  15.0  hours\n",
      "Possible p values:  [1919.0975153929955, 6789.473061181764]  km\n",
      "Possible e values:  [ 0.94267034  0.77844763]\n",
      "Selected p value =  1919.09751539  km\n",
      "Selected e value =  0.942670343801\n",
      "Possible theta1 values:  [ 147.24230456  212.75769544]\n",
      "Possible theta2 values:  [ 166.91134506  193.08865494]\n",
      "Combos:\n",
      "19.669040501\n",
      "45.8463503784\n",
      "-45.8463503784\n",
      "-19.669040501\n",
      "Theta1 =  147.24230456\n",
      "Theta2 =  193.088654939\n",
      "Difference =  45.8463503784\n",
      "Delta theta =  45.8463503784\n",
      "In Lambert:\n",
      "\n",
      "Transfer solved.\n",
      "\n",
      "Initial State (inertial frame):\n",
      "\n",
      "\tInitial Position =  [8990, 2219, 59.4] km\n",
      "\tInitial Velocity =  [-0.5, 2.105, -0.039] km\n",
      "\tFinal Position =  [19888, -12412, 748] km\n",
      "\tFinal Velocity =  [0.714, 1.147, 0.03] km\n",
      "\n",
      "Transfer:\n",
      "\n",
      "\tSemi-Major Axis a =  17231.3218913  km\n",
      "\tEccentricity e =  0.942670343801\n",
      "\tOrbital Energy E =  -1.24917868378 m^2/s^2\n",
      "\tTrue Anomaly at Transfer Start (theta1) =  147.24230456 degrees\n",
      "\tTrue Anomaly at Transfer Start (theta1) =  193.088654939 degrees\n",
      "\tInitial Transfer Arc Velocity (inertial frame) =  [ 2.58020191 -0.37342615  0.05301294] km/s\n",
      "\tFinal Transfer Arc Velocity (inertial frame) =  [-1.06266097  0.20651543 -0.02371018] km/s\n",
      "\tDelta v_1 =  3.95458042948 km/s\n",
      "\tDelta v_2 =  2.01095007742 km/s\n",
      "\tTotal delta v =  5.96553050689 km/s\n"
     ]
    }
   ],
   "source": [
    "#lessthan180\n",
    "TOF2 = 15 #hours\n",
    "ty\n",
    "results_3a = Lambert(s12, s22, True, TOF2, info2, True, True)"
   ]
  },
  {
   "cell_type": "markdown",
   "metadata": {},
   "source": [
    "### Part (b)"
   ]
  },
  {
   "cell_type": "code",
   "execution_count": 193,
   "metadata": {},
   "outputs": [
    {
     "name": "stdout",
     "output_type": "stream",
     "text": [
      "True anomaly at transfer start =  147.24230456 degrees\n",
      "True anomaly at transfer end =  193.088654939 degrees\n",
      "Initial transfer velocity vector =  [ 2.58020191 -0.37342615  0.05301294] km/s\n",
      "Final transfer velocity vector =  [-1.06266097  0.20651543 -0.02371018] km/s\n",
      "Delta v_1 magnitude =  3.95458042948 km/s\n",
      "Delta v_2 magnitude =  2.01095007742 km/s\n",
      "Total delta v =  5.96553050689 km/s\n"
     ]
    }
   ],
   "source": [
    "print(\"True anomaly at transfer start = \", np.degrees(results_3a[6]), \"degrees\")\n",
    "print(\"True anomaly at transfer end = \", np.degrees(results_3a[7]), \"degrees\")\n",
    "print(\"Initial transfer velocity vector = \", results_3a[8], \"km/s\")\n",
    "print(\"Final transfer velocity vector = \", results_3a[9], \"km/s\")\n",
    "print(\"Delta v_1 magnitude = \", results_3a[10], \"km/s\")\n",
    "print(\"Delta v_2 magnitude = \", results_3a[11], \"km/s\")\n",
    "print(\"Total delta v = \", results_3a[12], \"km/s\")"
   ]
  },
  {
   "cell_type": "markdown",
   "metadata": {},
   "source": [
    "### Part (c) \n",
    "\n",
    "(Do you think that the total ∆𝑣 required for this transfer would be feasible for a crewed exploration of the Martian system?)"
   ]
  },
  {
   "cell_type": "markdown",
   "metadata": {},
   "source": [
    "No."
   ]
  },
  {
   "cell_type": "markdown",
   "metadata": {},
   "source": [
    "### Part (d)"
   ]
  },
  {
   "cell_type": "code",
   "execution_count": 194,
   "metadata": {},
   "outputs": [
    {
     "name": "stdout",
     "output_type": "stream",
     "text": [
      "\n",
      "In solve: Successful Solve.\n",
      "\n",
      "Position Vector of Deimos at t3 =  [ -8639.88673164  21572.14599074   -292.98956806] km\n",
      "Velocity Vector of Deimos at t3 =  [-1.263768   -0.51059885 -0.05009774] km\n"
     ]
    }
   ],
   "source": [
    "#Use f and g functions to calculate Deimos state at t3\n",
    "\n",
    "dt = 12 #hours\n",
    "positionDeimos = position22\n",
    "velocityDeimos = velocity22\n",
    "\n",
    "#RD = [5024, -751, -2286]\n",
    "#VD = [-0.436, 0.135, 2.2]\n",
    "\n",
    "elements_3d = orbitalElements(positionDeimos, velocityDeimos, muMars, False)\n",
    "#return([a, e, i, RAAN, aop, theta, h, p])\n",
    "\n",
    "#def fgE(Ri, Vi, rf, dt, a, mu, deltaE):\n",
    "#def fgTheta(Ri, Vi, rf, mu, p, deltaTheta):\n",
    "\n",
    "E1 = theta2E(elements_3d[5], elements_3d[1])\n",
    "n3d = np.sqrt(muMars/(elements_3d[0]**3))\n",
    "\n",
    "info_3d = [n3d, elements_3d[1], dt, E1]\n",
    "#def solve(func, info, x0, x1, err, Nmax, isVerbose):\n",
    "E2 = solve(Kepler, info_3d, 1, 0, 1e-7, 10000, False)\n",
    "thetaD2 = E2theta(E2, elements_3d[1])\n",
    "\n",
    "rD2 = elements_3d[7]/(1+elements_3d[1]*np.cos(thetaD2))\n",
    "\n",
    "deltaE = E2-E1\n",
    "deltaThetaDeimos = thetaD2 - elements_3d[5]\n",
    "\n",
    "t3State = fgTheta(positionDeimos, velocityDeimos, rD2, muMars, elements_3d[7], deltaThetaDeimos)\n",
    "\n",
    "elements_3dFinal = orbitalElements(t3State[0], t3State[1], muMars, False)\n",
    "\n",
    "print(\"Position Vector of Deimos at t3 = \", t3State[0], \"km\")\n",
    "print(\"Velocity Vector of Deimos at t3 = \", t3State[1], \"km\")"
   ]
  },
  {
   "cell_type": "markdown",
   "metadata": {},
   "source": [
    "### Part (e)"
   ]
  },
  {
   "cell_type": "code",
   "execution_count": 201,
   "metadata": {},
   "outputs": [
    {
     "name": "stdout",
     "output_type": "stream",
     "text": [
      "Delta theta =  97.9653706772  degrees.\n",
      "c =  26181.6986522\n",
      "s =  29340.777699\n",
      "Parabolic TOF =  3.05978736487  hours\n",
      "Your TOF =  27  hours\n",
      "Elliptical Transfer.\n",
      "Minimum energy ellipse am =  14670.3888495  km.\n",
      "Minimum energy ellipse nm =  0.000116768080196\n",
      "Minimum energy ellipse betam0 =  0.668644170701\n",
      "Minimum energy ellipse TOF =  7.35758333459  hours.\n",
      "Short way:  False\n",
      "Long way:  True\n",
      "\n",
      "In solve: Successful Solve.\n",
      "\n",
      "In Lambert: Final a =  23961.1889063  km\n",
      "In Lambert: Final TOFi is:  27.0  hours\n",
      "Possible p values:  [6092.1198758112423, 14376.319205860453]  km\n",
      "Possible e values:  [ 0.86356848  0.63246854]\n",
      "Selected p value =  6092.11987581  km\n",
      "Selected e value =  0.863568478845\n",
      "Possible theta1 values:  [ 113.33778757  246.66221243]\n",
      "Possible theta2 values:  [ 148.69684175  211.30315825]\n",
      "Combos:\n",
      "35.3590541747\n",
      "97.9653706772\n",
      "-97.9653706772\n",
      "-35.3590541747\n",
      "Theta1 =  113.337787574\n",
      "Theta2 =  211.303158251\n",
      "Difference =  97.9653706772\n",
      "Delta theta =  97.9653706772\n",
      "In Lambert:\n",
      "\n",
      "Transfer solved.\n",
      "\n",
      "Initial State (inertial frame):\n",
      "\n",
      "\tInitial Position =  [8990, 2219, 59.4] km\n",
      "\tInitial Velocity =  [-0.5, 2.105, -0.039] km\n",
      "\tFinal Position =  [ -8639.88673164  21572.14599074   -292.98956806] km\n",
      "\tFinal Velocity =  [-1.263768   -0.51059885 -0.05009774] km\n",
      "\n",
      "Transfer:\n",
      "\n",
      "\tSemi-Major Axis a =  23961.1889063  km\n",
      "\tEccentricity e =  0.863568478845\n",
      "\tOrbital Energy E =  -0.898327711707 m^2/s^2\n",
      "\tTrue Anomaly at Transfer Start (theta1) =  113.337787574 degrees\n",
      "\tTrue Anomaly at Transfer Start (theta1) =  211.303158251 degrees\n",
      "\tInitial Transfer Arc Velocity (inertial frame) =  [ 1.62740265  2.20293225 -0.00717264] km/s\n",
      "\tFinal Transfer Arc Velocity (inertial frame) =  [-0.20345003 -1.3662564   0.01175259] km/s\n",
      "\tDelta v_1 =  2.1298933625 km/s\n",
      "\tDelta v_2 =  1.3639096344 km/s\n",
      "\tTotal delta v =  3.4938029969 km/s\n"
     ]
    }
   ],
   "source": [
    "results_3e = Lambert(s12, t3State, True, 27, info2, True, True)"
   ]
  },
  {
   "cell_type": "markdown",
   "metadata": {},
   "source": [
    "### Part (f)"
   ]
  },
  {
   "cell_type": "code",
   "execution_count": 196,
   "metadata": {},
   "outputs": [
    {
     "name": "stdout",
     "output_type": "stream",
     "text": [
      "True anomaly at transfer start =  113.337787574 degrees\n",
      "True anomaly at transfer end =  211.303158251 degrees\n",
      "Initial transfer velocity vector =  [ 1.62740265  2.20293225 -0.00717264] km/s\n",
      "Final transfer velocity vector =  [-0.20345003 -1.3662564   0.01175259] km/s\n",
      "Delta v_1 magnitude =  2.1298933625 km/s\n",
      "Delta v_2 magnitude =  1.3639096344 km/s\n",
      "Total delta v =  3.4938029969 km/s\n"
     ]
    }
   ],
   "source": [
    "print(\"True anomaly at transfer start = \", np.degrees(results_3e[6]), \"degrees\")\n",
    "print(\"True anomaly at transfer end = \", np.degrees(results_3e[7]), \"degrees\")\n",
    "print(\"Initial transfer velocity vector = \", results_3e[8], \"km/s\")\n",
    "print(\"Final transfer velocity vector = \", results_3e[9], \"km/s\")\n",
    "print(\"Delta v_1 magnitude = \", results_3e[10], \"km/s\")\n",
    "print(\"Delta v_2 magnitude = \", results_3e[11], \"km/s\")\n",
    "print(\"Total delta v = \", results_3e[12], \"km/s\")"
   ]
  },
  {
   "cell_type": "code",
   "execution_count": 205,
   "metadata": {},
   "outputs": [
    {
     "name": "stdout",
     "output_type": "stream",
     "text": [
      "\n",
      "In solve: Successful Solve.\n",
      "\n",
      "In Lambert:\n",
      "\n",
      "Transfer solved.\n",
      "\n",
      "Initial State (inertial frame):\n",
      "\n",
      "\tInitial Position =  [-654, 13605, 1997] km\n",
      "\tInitial Velocity =  [-5.53, 0.849, 0.683] km\n",
      "\tFinal Position =  [7284, -19341, -3264] km\n",
      "\tFinal Velocity =  [3.07, 2.63, 0.444] km\n",
      "\n",
      "Transfer:\n",
      "\n",
      "\tSemi-Major Axis a =  19001.2103585  km\n",
      "\tEccentricity e =  0.310047201662\n",
      "\tOrbital Energy E =  -10.4888171327 m^2/s^2\n",
      "\tTrue Anomaly at Transfer Start (theta1) =  37.009671933 degrees\n",
      "\tTrue Anomaly at Transfer Start (theta1) =  234.700206695 degrees\n",
      "\tInitial Transfer Arc Velocity (inertial frame) =  [-6.03306023  0.54895508  0.48237226] km/s\n",
      "\tFinal Transfer Arc Velocity (inertial frame) =  [ 3.27345533  2.52730206  0.14387584] km/s\n",
      "\tDelta v_1 =  0.619151058392 km/s\n",
      "\tDelta v_2 =  0.376849372654 km/s\n",
      "\tTotal delta v =  0.996000431046 km/s\n",
      "Runtime =  0.007083000000001505 seconds\n"
     ]
    }
   ],
   "source": [
    "#TEST\n",
    "\n",
    "#greaterthan180\n",
    "pa = [-654, 13605, 1997]\n",
    "va = [-5.53, 0.849, 0.6830]\n",
    "\n",
    "pb = [7284, -19341, -3264]\n",
    "vb = [3.07, 2.63, 0.444]\n",
    "\n",
    "infotest = [3.986004415e5]\n",
    "\n",
    "sa = [pa, va]\n",
    "sb = [pb, vb]\n",
    "\n",
    "TOFt = 5 #hrs\n",
    "\n",
    "t1 = time.clock()\n",
    "resultstest = Lambert(sa, sb, False, TOFt, infotest, False, True)\n",
    "t2 = time.clock()\n",
    "print(\"Runtime = \", t2-t1, \"seconds\")"
   ]
  },
  {
   "cell_type": "code",
   "execution_count": 212,
   "metadata": {},
   "outputs": [
    {
     "name": "stdout",
     "output_type": "stream",
     "text": [
      "Semi major axis a =  9327.24512977  km\n",
      "Eccentricity e =  0.0112738622862\n",
      "Inclination angle i =  1.0991959235  degrees\n",
      "Right ascension of ascending node =  -146.60288179  degrees\n",
      "Argument of periapsis =  109.720627358  degrees\n",
      "True anomaly =  50.7440942271  degrees\n",
      "\n",
      "rp phobos =  9222.09105266\n",
      "ra phobos =  9432.39920687\n",
      "\n",
      "Semi major axis a =  23339.5129544  km\n",
      "Eccentricity e =  0.00497967976275\n",
      "Inclination angle i =  2.22731929287  degrees\n",
      "Right ascension of ascending node =  -87.0887181447  degrees\n",
      "Argument of periapsis =  230.044356419  degrees\n",
      "True anomaly =  185.096595734  degrees\n",
      "\n",
      "rp deimos =  23223.2896541\n",
      "ra deimos =  23455.7362548\n"
     ]
    }
   ],
   "source": [
    "phobosElements = orbitalElements(position12, velocity12, muMars, True)\n",
    "print(\"\\nrp phobos = \", phobosElements[0]*(1 - phobosElements[1]))\n",
    "print(\"ra phobos = \", phobosElements[0]*(1 + phobosElements[1]))\n",
    "print()\n",
    "deimosElements = orbitalElements(position22, velocity22, muMars, True)\n",
    "print(\"\\nrp deimos = \", deimosElements[0]*(1 - deimosElements[1]))\n",
    "print(\"ra deimos = \", deimosElements[0]*(1 + deimosElements[1]))"
   ]
  },
  {
   "cell_type": "code",
   "execution_count": null,
   "metadata": {
    "collapsed": true
   },
   "outputs": [],
   "source": []
  }
 ],
 "metadata": {
  "kernelspec": {
   "display_name": "Python 3",
   "language": "python",
   "name": "python3"
  },
  "language_info": {
   "codemirror_mode": {
    "name": "ipython",
    "version": 3
   },
   "file_extension": ".py",
   "mimetype": "text/x-python",
   "name": "python",
   "nbconvert_exporter": "python",
   "pygments_lexer": "ipython3",
   "version": "3.6.5"
  }
 },
 "nbformat": 4,
 "nbformat_minor": 2
}
